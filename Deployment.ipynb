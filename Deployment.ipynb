{
 "cells": [
  {
   "cell_type": "code",
   "execution_count": 25,
   "id": "7edc5a7c-9938-4ed0-a1b2-a2d112ec45a2",
   "metadata": {},
   "outputs": [],
   "source": [
    "import numpy as np\n",
    "import pandas as pd \n",
    "import seaborn as sns \n",
    "import matplotlib.pyplot as plt\n",
    "%matplotlib inline\n",
    "import warnings\n",
    "warnings.filterwarnings(\"ignore\")"
   ]
  },
  {
   "cell_type": "code",
   "execution_count": 26,
   "id": "017647d3-3f9e-4405-9ba6-236d7b4c1047",
   "metadata": {},
   "outputs": [],
   "source": [
    "from sklearn.model_selection import train_test_split\n",
    "from sklearn.feature_extraction import DictVectorizer\n",
    "from sklearn.linear_model import LogisticRegression\n",
    "from sklearn.metrics import roc_auc_score\n",
    "from sklearn.model_selection import KFold"
   ]
  },
  {
   "cell_type": "code",
   "execution_count": 27,
   "id": "4e4a128e-03f9-46f7-af3c-895bad0b6dd2",
   "metadata": {},
   "outputs": [],
   "source": [
    "df = pd.read_csv('WA_Fn-UseC_-Telco-Customer-Churn.csv')\n",
    "\n",
    "df.columns = df.columns.str.lower().str.replace(' ','_')\n",
    "\n",
    "categorical_columns = list(df.dtypes[df.dtypes == 'object'].index)\n",
    "\n",
    "for c in categorical_columns:\n",
    "    df[c] = df[c].str.lower().str.replace(' ','_')\n",
    "\n",
    "df.totalcharges = pd.to_numeric(df.totalcharges,errors='coerce')\n",
    "df.totalcharges = df.totalcharges.fillna(0)\n",
    "\n",
    "df.churn = (df.churn == 'yes').astype(int)\n"
   ]
  },
  {
   "cell_type": "code",
   "execution_count": 28,
   "id": "8387e894-c50e-49ae-bacf-d0cf10405e71",
   "metadata": {},
   "outputs": [],
   "source": [
    "df_full_train,df_test = train_test_split(df,test_size=0.2,random_state=1)"
   ]
  },
  {
   "cell_type": "code",
   "execution_count": 29,
   "id": "7a87d00a-d908-4989-bb27-b04c661428f2",
   "metadata": {},
   "outputs": [],
   "source": [
    "numerical = ['tenure','monthlycharges','totalcharges']\n",
    "\n",
    "categorical = ['gender', 'seniorcitizen', 'partner', 'dependents',\n",
    "       'phoneservice', 'multiplelines', 'internetservice',\n",
    "       'onlinesecurity', 'onlinebackup', 'deviceprotection', 'techsupport',\n",
    "       'streamingtv', 'streamingmovies', 'contract', 'paperlessbilling',\n",
    "       'paymentmethod']\n",
    "\n"
   ]
  },
  {
   "cell_type": "code",
   "execution_count": 30,
   "id": "6990109b-e0e8-4756-b4df-9780e5babfe8",
   "metadata": {},
   "outputs": [],
   "source": [
    "def train(df_train,y_train,C=1.0):\n",
    "    dicts= df_train[categorical+numerical].to_dict(orient='records')\n",
    "\n",
    "    dv= DictVectorizer(sparse=False)\n",
    "    X_train = dv.fit_transform(dicts)\n",
    "\n",
    "    model = LogisticRegression(C=C, max_iter=1000)\n",
    "    model.fit(X_train,y_train)\n",
    "\n",
    "    return dv,model"
   ]
  },
  {
   "cell_type": "code",
   "execution_count": 31,
   "id": "c35c9a7e-8757-490a-a3a2-d9d3a7a72d9e",
   "metadata": {},
   "outputs": [],
   "source": [
    "def predict(df,dv,model):\n",
    "    dicts = df[categorical+numerical].to_dict(orient='records')\n",
    "\n",
    "    X = dv.transform(dicts)\n",
    "    y_pred = model.predict_proba(X)[:,1]\n",
    "    return y_pred"
   ]
  },
  {
   "cell_type": "code",
   "execution_count": 32,
   "id": "ef270f83-8ef5-4cec-828d-0cc6319dca0b",
   "metadata": {},
   "outputs": [],
   "source": [
    "C = 1\n",
    "n_splits=5"
   ]
  },
  {
   "cell_type": "code",
   "execution_count": 33,
   "id": "2920079e-ec20-4878-bced-871287f7de1f",
   "metadata": {},
   "outputs": [
    {
     "name": "stdout",
     "output_type": "stream",
     "text": [
      "C=1 0.840 +- 0.008\n"
     ]
    }
   ],
   "source": [
    "kfold = KFold(n_splits=n_splits,shuffle=True,random_state=1)\n",
    "scores = []\n",
    "    \n",
    "for train_idx, val_idx in kfold.split(df_full_train):\n",
    "        \n",
    "    df_train = df_full_train.iloc[train_idx]\n",
    "    df_val = df_full_train.iloc[val_idx]\n",
    "        \n",
    "    y_train = df_train.churn.values\n",
    "    y_val = df_val.churn.values\n",
    "        \n",
    "    dv, model = train(df_train, y_train,C=C)\n",
    "    y_pred = predict(df_val, dv, model)\n",
    "        \n",
    "    auc = roc_auc_score(y_val, y_pred)\n",
    "    scores.append(auc)\n",
    "print('C=%s %.3f +- %.3f' %(C,np.mean(scores),np.std(scores)))\n",
    "\n",
    "    "
   ]
  },
  {
   "cell_type": "code",
   "execution_count": 34,
   "id": "a842600f-dbf1-4e09-9b2d-d5c17dd648e9",
   "metadata": {},
   "outputs": [
    {
     "data": {
      "text/plain": [
       "[0.8424103743592561,\n",
       " 0.8455854357038802,\n",
       " 0.8311739915713425,\n",
       " 0.8301724275756219,\n",
       " 0.8522520473157416]"
      ]
     },
     "execution_count": 34,
     "metadata": {},
     "output_type": "execute_result"
    }
   ],
   "source": [
    "scores"
   ]
  },
  {
   "cell_type": "code",
   "execution_count": 35,
   "id": "c8ba7c32-68d8-4e50-b814-40b8a4d7a76a",
   "metadata": {},
   "outputs": [
    {
     "data": {
      "text/plain": [
       "0.8589015459282612"
      ]
     },
     "execution_count": 35,
     "metadata": {},
     "output_type": "execute_result"
    }
   ],
   "source": [
    "dv, model = train(df_full_train, df_full_train.churn,C=0.5)\n",
    "y_pred = predict(df_test, dv, model)\n",
    "y_test = df_test.churn.values\n",
    "auc = roc_auc_score(y_test, y_pred)\n",
    "auc"
   ]
  },
  {
   "cell_type": "code",
   "execution_count": 38,
   "id": "1b363a6a-d1ce-4396-a16b-e369ae1e0346",
   "metadata": {},
   "outputs": [
    {
     "data": {
      "text/plain": [
       "'model_C=1.bin'"
      ]
     },
     "execution_count": 38,
     "metadata": {},
     "output_type": "execute_result"
    }
   ],
   "source": [
    "import pickle \n",
    "output_file = f'model_C={C}.bin'\n",
    "output_file"
   ]
  },
  {
   "cell_type": "code",
   "execution_count": null,
   "id": "86c8bf30-131b-4374-b981-f199829ddebd",
   "metadata": {},
   "outputs": [],
   "source": [
    "# f_out = open(output_file,'wb')\n",
    "# pickle.dump((dv,model),f_out)\n",
    "# f_out.close()"
   ]
  },
  {
   "cell_type": "code",
   "execution_count": 39,
   "id": "90b731a0-6c25-495a-aed6-3c7a441c3c6f",
   "metadata": {},
   "outputs": [],
   "source": [
    "with open(output_file,'wb') as f_out:\n",
    "    pickle.dump((dv,model),f_out)"
   ]
  },
  {
   "cell_type": "code",
   "execution_count": 1,
   "id": "ceb6869c-8463-4d49-9574-dc4040f6af01",
   "metadata": {},
   "outputs": [],
   "source": [
    "import pickle"
   ]
  },
  {
   "cell_type": "code",
   "execution_count": 2,
   "id": "198d2675-81b6-48c2-b7dd-7e4dcda5a94d",
   "metadata": {},
   "outputs": [],
   "source": [
    "model_file = 'model_C=1.bin'"
   ]
  },
  {
   "cell_type": "code",
   "execution_count": 3,
   "id": "0fc3bfbf-2be0-498f-86cb-359eb2da93e6",
   "metadata": {},
   "outputs": [],
   "source": [
    "with open(model_file,'rb') as f_in:\n",
    "    dv,model = pickle.load(f_in)"
   ]
  },
  {
   "cell_type": "code",
   "execution_count": 4,
   "id": "d2f7dff0-235f-42d3-aef5-a57001c6289e",
   "metadata": {},
   "outputs": [
    {
     "data": {
      "text/plain": [
       "(DictVectorizer(sparse=False), LogisticRegression(C=0.5, max_iter=1000))"
      ]
     },
     "execution_count": 4,
     "metadata": {},
     "output_type": "execute_result"
    }
   ],
   "source": [
    "dv,model"
   ]
  },
  {
   "cell_type": "code",
   "execution_count": 33,
   "id": "17caf0ba-4405-4980-9450-04501af16ee5",
   "metadata": {},
   "outputs": [],
   "source": [
    "customer = {\n",
    " 'gender':  'male',\n",
    " 'seniorcitizen':  0,\n",
    " 'partner': 'yes',\n",
    " 'dependents': 'yes',\n",
    " 'tenure': 12,\n",
    " 'phoneservice': 'yes',\n",
    " 'multiplelines':'no',\n",
    " 'internetservice':  'no',\n",
    " 'onlinesecurity':  'no',\n",
    " 'onlinebackup':'no',\n",
    " 'deviceprotection':  'no',\n",
    " 'techsupport': 'no',\n",
    " 'streamingtv': 'no',\n",
    " 'streamingmovies':'no',\n",
    " 'contract': 'two_year',\n",
    " 'paperlessbilling': 'no',\n",
    " 'paymentmethod': 'mailed_check',\n",
    " 'monthlycharges': 19.7,\n",
    " 'totalcharges': 258.35,\n",
    " 'churn': 0}"
   ]
  },
  {
   "cell_type": "code",
   "execution_count": 34,
   "id": "5cf178f9-7f5e-4e8a-bd7d-675e1b0d0cb7",
   "metadata": {},
   "outputs": [],
   "source": [
    "X = dv.transform([customer])"
   ]
  },
  {
   "cell_type": "code",
   "execution_count": 35,
   "id": "7abbc2c6-8c26-420e-b2ea-6452923dd81a",
   "metadata": {},
   "outputs": [
    {
     "data": {
      "text/plain": [
       "0.09591633613943829"
      ]
     },
     "execution_count": 35,
     "metadata": {},
     "output_type": "execute_result"
    }
   ],
   "source": [
    "model.predict_proba(X)[0,1]"
   ]
  },
  {
   "cell_type": "code",
   "execution_count": null,
   "id": "9e553cb9-af58-414f-869a-a05d8850d629",
   "metadata": {},
   "outputs": [],
   "source": []
  },
  {
   "cell_type": "code",
   "execution_count": null,
   "id": "50d7e698-2150-4be3-9c0d-a0f24e4bf9b8",
   "metadata": {},
   "outputs": [],
   "source": []
  },
  {
   "cell_type": "code",
   "execution_count": null,
   "id": "505e2685-e1bf-481f-9558-0fc07145d07c",
   "metadata": {},
   "outputs": [],
   "source": []
  },
  {
   "cell_type": "code",
   "execution_count": null,
   "id": "ce48e4af-9070-4ab2-9ee4-68f9c0b3d30a",
   "metadata": {},
   "outputs": [],
   "source": []
  },
  {
   "cell_type": "code",
   "execution_count": null,
   "id": "c5d1b416-3c8f-4605-8382-273f6b0f50c7",
   "metadata": {},
   "outputs": [],
   "source": []
  },
  {
   "cell_type": "code",
   "execution_count": null,
   "id": "8b604f87-f1d5-403e-95e4-d65d36444674",
   "metadata": {},
   "outputs": [],
   "source": []
  },
  {
   "cell_type": "code",
   "execution_count": null,
   "id": "6440f1d2-9077-4f52-96af-9f7d36ee1dc4",
   "metadata": {},
   "outputs": [],
   "source": []
  },
  {
   "cell_type": "code",
   "execution_count": null,
   "id": "a9eee6b6-dc4f-4b89-854c-06e2f53fc402",
   "metadata": {},
   "outputs": [],
   "source": []
  },
  {
   "cell_type": "code",
   "execution_count": null,
   "id": "578027ea-88ce-4642-9ad5-57d612159f1a",
   "metadata": {},
   "outputs": [],
   "source": []
  },
  {
   "cell_type": "code",
   "execution_count": null,
   "id": "da61bcff-c9b2-429a-84f5-00495cf018ec",
   "metadata": {},
   "outputs": [],
   "source": []
  },
  {
   "cell_type": "code",
   "execution_count": null,
   "id": "6b659d1d-9a3b-44a5-8ae7-6bc92223c594",
   "metadata": {},
   "outputs": [],
   "source": []
  },
  {
   "cell_type": "code",
   "execution_count": null,
   "id": "4161441a-0c30-4a37-9ec1-50578ddc6344",
   "metadata": {},
   "outputs": [],
   "source": []
  },
  {
   "cell_type": "code",
   "execution_count": null,
   "id": "63e9ef96-9ad5-4068-a5a4-712175abc78f",
   "metadata": {},
   "outputs": [],
   "source": []
  },
  {
   "cell_type": "code",
   "execution_count": null,
   "id": "02a610ad-48ba-4755-889d-f8661579f446",
   "metadata": {},
   "outputs": [],
   "source": []
  }
 ],
 "metadata": {
  "kernelspec": {
   "display_name": "Python 3 (ipykernel)",
   "language": "python",
   "name": "python3"
  },
  "language_info": {
   "codemirror_mode": {
    "name": "ipython",
    "version": 3
   },
   "file_extension": ".py",
   "mimetype": "text/x-python",
   "name": "python",
   "nbconvert_exporter": "python",
   "pygments_lexer": "ipython3",
   "version": "3.9.15"
  }
 },
 "nbformat": 4,
 "nbformat_minor": 5
}
